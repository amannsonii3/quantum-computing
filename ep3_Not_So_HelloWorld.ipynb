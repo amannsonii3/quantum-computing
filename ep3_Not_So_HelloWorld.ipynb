{
 "cells": [
  {
   "cell_type": "markdown",
   "id": "402a56b8",
   "metadata": {},
   "source": [
    "# Hello world on a 2-qubit Bell state"
   ]
  },
  {
   "cell_type": "markdown",
   "id": "cec6f5fb",
   "metadata": {},
   "source": [
    "### Step 1: Map the problem to circuits and operators"
   ]
  },
  {
   "cell_type": "code",
   "execution_count": 80,
   "id": "6f685575",
   "metadata": {},
   "outputs": [
    {
     "data": {
      "image/png": "[encoded data removed]",
      "text/plain": [
       "<Figure size 287.294x200.667 with 1 Axes>"
      ]
     },
     "execution_count": 80,
     "metadata": {},
     "output_type": "execute_result"
    }
   ],
   "source": [
    "from qiskit import QuantumCircuit\n",
    "\n",
    "qc = QuantumCircuit(2)\n",
    "\n",
    "qc.h(0)  # Hadamard gate to qubit 0\n",
    "qc.cx(0, 1)  # CNOT gate between 0 and 1 qubit\n",
    "\n",
    "qc.draw(output='mpl')"
   ]
  },
  {
   "cell_type": "code",
   "execution_count": 81,
   "id": "f20af4e1",
   "metadata": {},
   "outputs": [
    {
     "name": "stdout",
     "output_type": "stream",
     "text": [
      "Initial state vector for 2 qubits:\n",
      "State: Statevector([1.+0.j, 0.+0.j, 0.+0.j, 0.+0.j],\n",
      "            dims=(2, 2))\n",
      "In computational basis: |00⟩ with amplitude 1.0\n",
      "Probabilities: [1. 0. 0. 0.]\n",
      "This corresponds to: |00⟩: 100%, |01⟩: 0%, |10⟩: 0%, |11⟩: 0%\n"
     ]
    }
   ],
   "source": [
    "# Let's verify the initial state using Qiskit's statevector simulator\n",
    "from qiskit.quantum_info import Statevector\n",
    "\n",
    "# For a 2-qubit system QuantumCircuit(2)\n",
    "qc_init = QuantumCircuit(2)\n",
    "initial_state = Statevector.from_instruction(qc_init)\n",
    "\n",
    "print(\"Initial state vector for 2 qubits:\")\n",
    "print(f\"State: {initial_state}\")\n",
    "print(f\"In computational basis: |00⟩ with amplitude 1.0\")\n",
    "print(f\"Probabilities: {initial_state.probabilities()}\")\n",
    "print(f\"This corresponds to: |00⟩: 100%, |01⟩: 0%, |10⟩: 0%, |11⟩: 0%\")"
   ]
  },
  {
   "cell_type": "markdown",
   "id": "57083a20",
   "metadata": {},
   "source": [
    "This confirms that QuantumCircuit(n) initializes all n qubits to |0⟩, giving you the n=2 qubit |00⟩ state with 100% probability! \\\n",
    "Thus,\n",
    "\n",
    "- **Initial state**: \n",
    "    - |00⟩ (both qubits in state 0)\n",
    "- **Hadamard gate** on qubit 0:\n",
    "    - The Hadamard gate puts qubit 0 into superposition of 0 and 1\n",
    "State becomes: (|00⟩ + |10⟩)/√2\n",
    "- **CNOT** gate:\n",
    "    - CNOT flips qubit 1 if qubit 0 is |1⟩\n",
    "    - Final state: (|00⟩ + |11⟩)/√2"
   ]
  },
  {
   "cell_type": "code",
   "execution_count": 82,
   "id": "632d257f",
   "metadata": {},
   "outputs": [],
   "source": [
    "from qiskit.quantum_info import Pauli\n",
    "\n",
    "ZZ = Pauli('ZZ')\n",
    "ZI = Pauli('ZI')\n",
    "IZ = Pauli('IZ')\n",
    "XX = Pauli('XX')\n",
    "XI = Pauli('XI')\n",
    "IX = Pauli('IX')\n",
    "\n",
    "observables = [ZZ, ZI, IZ, XX, XI, IX]"
   ]
  },
  {
   "cell_type": "markdown",
   "id": "51f78a4c",
   "metadata": {},
   "source": [
    "## Understanding Pauli Operators\n",
    "\n",
    "Pauli operators are fundamental quantum operators. For 2-qubit systems:\n",
    "\n",
    "- **Single qubit Paulis**: I, X, Y, Z\n",
    "- **Two-qubit combinations**: We use tensor products like ZZ, ZI, IZ, XX, etc.\n",
    "\n",
    "**What they measure:**\n",
    "- **Z operators**: Measure in computational basis (|0⟩/|1⟩)\n",
    "- **X operators**: Measure in superposition basis (|+⟩/|-⟩)  \n",
    "- **Y operators**: Measure in circular basis\n",
    "\n",
    "These observables help us characterize quantum states and measure different properties of our Bell state."
   ]
  },
  {
   "cell_type": "code",
   "execution_count": null,
   "id": "450db012",
   "metadata": {},
   "outputs": [],
   "source": [
    "# Let's see what these Pauli operators actually look like as matrices\n",
    "print(\"Single qubit Pauli operators:\")\n",
    "print(\"I (Identity):\")\n",
    "print(Pauli('I').to_matrix())\n",
    "print(\"\\nX (Bit flip):\")\n",
    "print(Pauli('X').to_matrix())\n",
    "print(\"\\nY (Bit+Phase flip):\")\n",
    "print(Pauli('Y').to_matrix())\n",
    "print(\"\\nZ (Phase flip):\")\n",
    "print(Pauli('Z').to_matrix())\n",
    "\n",
    "print(\"=\"*50)\n",
    "print(\"Two-qubit Pauli operators (examples):\")\n",
    "print(\"ZZ (Z on both qubits):\")\n",
    "print(ZZ.to_matrix())\n",
    "print(\"\\nXX (X on both qubits):\")\n",
    "print(XX.to_matrix())"
   ]
  },
  {
   "cell_type": "code",
   "execution_count": 83,
   "id": "38b9dc73",
   "metadata": {},
   "outputs": [
    {
     "name": "stdout",
     "output_type": "stream",
     "text": [
      "How Pauli operators transform quantum states:\n",
      "==================================================\n",
      "Initial state |0⟩: Statevector([1.+0.j, 0.+0.j],\n",
      "            dims=(2,))\n",
      "After X gate: Statevector([0.+0.j, 1.+0.j],\n",
      "            dims=(2,)) (this is |1⟩)\n",
      "|1⟩ after Z gate: Statevector([ 0.+0.j, -1.+0.j],\n",
      "            dims=(2,)) (this is -|1⟩)\n",
      "\n",
      "==================================================\n",
      "For our Bell state (|00⟩ + |11⟩)/√2:\n",
      "Bell state: Statevector([0.70710678+0.j, 0.        +0.j, 0.        +0.j,\n",
      "             0.70710678+0.j],\n",
      "            dims=(2, 2))\n",
      "⟨ZZ⟩ expectation value: 0.9999999999999998\n",
      "⟨XX⟩ expectation value: 0.9999999999999998\n"
     ]
    }
   ],
   "source": [
    "# Let's see how Pauli operators act on quantum states\n",
    "import numpy as np\n",
    "\n",
    "print(\"How Pauli operators transform quantum states:\")\n",
    "print(\"=\"*50)\n",
    "\n",
    "# Start with |0⟩ state\n",
    "state_0 = Statevector([1, 0])\n",
    "print(f\"Initial state |0⟩: {state_0}\")\n",
    "\n",
    "# Apply X gate (bit flip)\n",
    "state_after_X = state_0.evolve(Pauli('X'))\n",
    "print(f\"After X gate: {state_after_X} (this is |1⟩)\")\n",
    "\n",
    "# Apply Z gate to |1⟩ (phase flip)  \n",
    "state_1 = Statevector([0, 1])\n",
    "state_after_Z = state_1.evolve(Pauli('Z'))\n",
    "print(f\"|1⟩ after Z gate: {state_after_Z} (this is -|1⟩)\")\n",
    "\n",
    "print(\"\\n\" + \"=\"*50)\n",
    "print(\"For our Bell state (|00⟩ + |11⟩)/√2:\")\n",
    "\n",
    "# Create Bell state\n",
    "bell_state = Statevector([(1/np.sqrt(2)), 0, 0, (1/np.sqrt(2))])\n",
    "print(f\"Bell state: {bell_state}\")\n",
    "\n",
    "# Apply ZZ measurement (Z on both qubits)\n",
    "expectation_ZZ = bell_state.expectation_value(ZZ)\n",
    "print(f\"⟨ZZ⟩ expectation value: {expectation_ZZ}\")\n",
    "\n",
    "# Apply XX measurement  \n",
    "expectation_XX = bell_state.expectation_value(XX)\n",
    "print(f\"⟨XX⟩ expectation value: {expectation_XX}\")"
   ]
  },
  {
   "cell_type": "markdown",
   "id": "8a885ad3",
   "metadata": {},
   "source": [
    "### Step 2: Optimize"
   ]
  },
  {
   "cell_type": "markdown",
   "id": "9903dd4e",
   "metadata": {},
   "source": [
    "### Step 3: Execute on the backend"
   ]
  },
  {
   "cell_type": "code",
   "execution_count": 84,
   "id": "c3c7175f",
   "metadata": {},
   "outputs": [],
   "source": [
    "from qiskit_aer.primitives import Estimator\n",
    "\n",
    "estimator = Estimator()\n",
    "\n",
    "job = estimator.run([qc] * len(observables), observables) # [qc] * len(observables) to create a list of circuits, one for each observable\n",
    "\n",
    "results = job.result()"
   ]
  },
  {
   "cell_type": "markdown",
   "id": "8640a341",
   "metadata": {},
   "source": [
    "## What is the Estimator?\n",
    "\n",
    "The `Estimator` is a Qiskit **primitive** - a high-level interface for quantum computations.\n",
    "\n",
    "**What `estimator = Estimator()` does:**\n",
    "- Creates an **instance/object** of the Estimator class\n",
    "- This object inherits all methods from the Estimator class\n",
    "- Provides access to functions like `.run()` to execute quantum circuits\n",
    "\n",
    "**What the Estimator primitive does:**\n",
    "- Calculates **expectation values** ⟨ψ|O|ψ⟩ of observables O on quantum states |ψ⟩\n",
    "- Runs quantum circuits on backends (simulators or real quantum hardware)\n",
    "- Returns statistical estimates of how quantum states behave under different measurements"
   ]
  },
  {
   "cell_type": "code",
   "execution_count": null,
   "id": "558925db",
   "metadata": {},
   "outputs": [],
   "source": [
    "# print(type(results.values))\n",
    "print(results.values)\n",
    "# print(type(results.metadata))\n",
    "print(results.metadata)"
   ]
  },
  {
   "cell_type": "code",
   "execution_count": 85,
   "id": "e59f6215",
   "metadata": {},
   "outputs": [
    {
     "name": "stdout",
     "output_type": "stream",
     "text": [
      "============================================================\n",
      "MATHEMATICAL ANALYSIS: Bell State Expectation Values\n",
      "============================================================\n",
      "Bell state |ψ⟩ = (|00⟩ + |11⟩)/√2\n",
      "State vector: Statevector([0.70710678+0.j, 0.        +0.j, 0.        +0.j,\n",
      "             0.70710678+0.j],\n",
      "            dims=(2, 2))\n",
      "\n",
      "==================================================\n",
      "PAULI OPERATOR MATRICES:\n",
      "==================================================\n",
      "ZZ operator matrix:\n",
      "[[ 1.+0.j  0.+0.j  0.+0.j  0.+0.j]\n",
      " [ 0.+0.j -1.+0.j  0.+0.j  0.+0.j]\n",
      " [ 0.+0.j  0.+0.j -1.+0.j  0.+0.j]\n",
      " [ 0.+0.j  0.+0.j  0.+0.j  1.+0.j]]\n",
      "\n",
      "ZI operator matrix:\n",
      "[[ 1.+0.j  0.+0.j  0.+0.j  0.+0.j]\n",
      " [ 0.+0.j  1.+0.j  0.+0.j  0.+0.j]\n",
      " [ 0.+0.j  0.+0.j -1.+0.j  0.+0.j]\n",
      " [ 0.+0.j  0.+0.j  0.+0.j -1.+0.j]]\n",
      "\n",
      "IZ operator matrix:\n",
      "[[ 1.+0.j  0.+0.j  0.+0.j  0.+0.j]\n",
      " [ 0.+0.j -1.+0.j  0.+0.j  0.+0.j]\n",
      " [ 0.+0.j  0.+0.j  1.+0.j  0.+0.j]\n",
      " [ 0.+0.j  0.+0.j  0.+0.j -1.+0.j]]\n",
      "\n",
      "==================================================\n",
      "EXPECTATION VALUE CALCULATIONS:\n",
      "==================================================\n",
      "1. ⟨ZZ⟩ Expectation Value:\n",
      "   ZZ|00⟩ = Z⊗Z|00⟩ = |00⟩ (eigenvalue +1)\n",
      "   ZZ|11⟩ = Z⊗Z|11⟩ = (-1)(-1)|11⟩ = +1|11⟩ (eigenvalue +1)\n",
      "   ⟨ψ|ZZ|ψ⟩ = ⟨(|00⟩+|11⟩)/√2|ZZ|(|00⟩+|11⟩)/√2⟩\n",
      "   = (1/2)[⟨00|ZZ|00⟩ + ⟨00|ZZ|11⟩ + ⟨11|ZZ|00⟩ + ⟨11|ZZ|11⟩]\n",
      "   = (1/2)[1×1 + 0 + 0 + 1×1] = 1\n",
      "   Calculated: 0.9999999999999998\n",
      "\n",
      "2. ⟨ZI⟩ Expectation Value:\n",
      "   ZI = Z⊗I (Z on qubit 0, Identity on qubit 1)\n",
      "   ZI|00⟩ = |00⟩ (eigenvalue +1)\n",
      "   ZI|11⟩ = -|11⟩ (eigenvalue -1)\n",
      "   ⟨ψ|ZI|ψ⟩ = (1/2)[⟨00|ZI|00⟩ + ⟨11|ZI|11⟩]\n",
      "   = (1/2)[1×1 + 1×(-1)] = 0\n",
      "   Calculated: 0.0\n",
      "\n",
      "3. ⟨IZ⟩ Expectation Value:\n",
      "   IZ = I⊗Z (Identity on qubit 0, Z on qubit 1)\n",
      "   IZ|00⟩ = |00⟩ (eigenvalue +1)\n",
      "   IZ|11⟩ = -|11⟩ (eigenvalue -1)\n",
      "   ⟨ψ|IZ|ψ⟩ = (1/2)[⟨00|IZ|00⟩ + ⟨11|IZ|11⟩]\n",
      "   = (1/2)[1×1 + 1×(-1)] = 0\n",
      "   Calculated: 0.0\n",
      "\n",
      "==================================================\n",
      "PHYSICAL INTERPRETATION:\n",
      "==================================================\n",
      "• ⟨ZZ⟩ = 1: The qubits have PERFECT CORRELATION\n",
      "  Both qubits always have the same Z measurement outcome\n",
      "• ⟨ZI⟩ = 0: Qubit 0 alone shows NO BIAS\n",
      "  Equal probability of measuring +1 or -1\n",
      "• ⟨IZ⟩ = 0: Qubit 1 alone shows NO BIAS\n",
      "  Equal probability of measuring +1 or -1\n",
      "\n",
      "This is the signature of QUANTUM ENTANGLEMENT!\n"
     ]
    }
   ],
   "source": [
    "# Mathematical Analysis of Bell State Expectation Values\n",
    "print(\"=\"*60)\n",
    "print(\"MATHEMATICAL ANALYSIS: Bell State Expectation Values\")\n",
    "print(\"=\"*60)\n",
    "\n",
    "# Our Bell state: (|00⟩ + |11⟩)/√2\n",
    "bell_state = Statevector([1/np.sqrt(2), 0, 0, 1/np.sqrt(2)])\n",
    "print(f\"Bell state |ψ⟩ = (|00⟩ + |11⟩)/√2\")\n",
    "print(f\"State vector: {bell_state}\")\n",
    "\n",
    "print(\"\\n\" + \"=\"*50)\n",
    "print(\"PAULI OPERATOR MATRICES:\")\n",
    "print(\"=\"*50)\n",
    "\n",
    "ZZ = Pauli('ZZ')\n",
    "ZI = Pauli('ZI')  \n",
    "IZ = Pauli('IZ')\n",
    "\n",
    "print(\"ZZ operator matrix:\")\n",
    "print(ZZ.to_matrix())\n",
    "print(\"\\nZI operator matrix:\")\n",
    "print(ZI.to_matrix())\n",
    "print(\"\\nIZ operator matrix:\")\n",
    "print(IZ.to_matrix())\n",
    "\n",
    "print(\"\\n\" + \"=\"*50)\n",
    "print(\"EXPECTATION VALUE CALCULATIONS:\")\n",
    "print(\"=\"*50)\n",
    "\n",
    "# ZZ expectation value calculation\n",
    "print(\"1. ⟨ZZ⟩ Expectation Value:\")\n",
    "print(\"   ZZ|00⟩ = Z⊗Z|00⟩ = |00⟩ (eigenvalue +1)\")\n",
    "print(\"   ZZ|11⟩ = Z⊗Z|11⟩ = (-1)(-1)|11⟩ = +1|11⟩ (eigenvalue +1)\")\n",
    "print(\"   ⟨ψ|ZZ|ψ⟩ = ⟨(|00⟩+|11⟩)/√2|ZZ|(|00⟩+|11⟩)/√2⟩\")\n",
    "print(\"   = (1/2)[⟨00|ZZ|00⟩ + ⟨00|ZZ|11⟩ + ⟨11|ZZ|00⟩ + ⟨11|ZZ|11⟩]\")\n",
    "print(\"   = (1/2)[1×1 + 0 + 0 + 1×1] = 1\")\n",
    "\n",
    "zz_expectation = bell_state.expectation_value(ZZ)\n",
    "print(f\"   Calculated: {zz_expectation}\")\n",
    "\n",
    "print(\"\\n2. ⟨ZI⟩ Expectation Value:\")\n",
    "print(\"   ZI = Z⊗I (Z on qubit 0, Identity on qubit 1)\")\n",
    "print(\"   ZI|00⟩ = |00⟩ (eigenvalue +1)\")\n",
    "print(\"   ZI|11⟩ = -|11⟩ (eigenvalue -1)\")\n",
    "print(\"   ⟨ψ|ZI|ψ⟩ = (1/2)[⟨00|ZI|00⟩ + ⟨11|ZI|11⟩]\")\n",
    "print(\"   = (1/2)[1×1 + 1×(-1)] = 0\")\n",
    "\n",
    "zi_expectation = bell_state.expectation_value(ZI)\n",
    "print(f\"   Calculated: {zi_expectation}\")\n",
    "\n",
    "print(\"\\n3. ⟨IZ⟩ Expectation Value:\")\n",
    "print(\"   IZ = I⊗Z (Identity on qubit 0, Z on qubit 1)\")\n",
    "print(\"   IZ|00⟩ = |00⟩ (eigenvalue +1)\")\n",
    "print(\"   IZ|11⟩ = -|11⟩ (eigenvalue -1)\")\n",
    "print(\"   ⟨ψ|IZ|ψ⟩ = (1/2)[⟨00|IZ|00⟩ + ⟨11|IZ|11⟩]\")\n",
    "print(\"   = (1/2)[1×1 + 1×(-1)] = 0\")\n",
    "\n",
    "iz_expectation = bell_state.expectation_value(IZ)\n",
    "print(f\"   Calculated: {iz_expectation}\")\n",
    "\n",
    "print(\"\\n\" + \"=\"*50)\n",
    "print(\"PHYSICAL INTERPRETATION:\")\n",
    "print(\"=\"*50)\n",
    "print(\"• ⟨ZZ⟩ = 1: The qubits have PERFECT CORRELATION\")\n",
    "print(\"  Both qubits always have the same Z measurement outcome\")\n",
    "print(\"• ⟨ZI⟩ = 0: Qubit 0 alone shows NO BIAS\")\n",
    "print(\"  Equal probability of measuring +1 or -1\")\n",
    "print(\"• ⟨IZ⟩ = 0: Qubit 1 alone shows NO BIAS\")\n",
    "print(\"  Equal probability of measuring +1 or -1\")\n",
    "print(\"\\nThis is the signature of QUANTUM ENTANGLEMENT!\")"
   ]
  },
  {
   "cell_type": "code",
   "execution_count": null,
   "id": "9a44f4b3",
   "metadata": {},
   "outputs": [],
   "source": [
    "# Analysis of X-based Pauli operators on Bell State\n",
    "print(\"\\n\" + \"=\"*60)\n",
    "print(\"X-BASED PAULI OPERATORS ANALYSIS\")\n",
    "print(\"=\"*60)\n",
    "\n",
    "XX = Pauli('XX')\n",
    "XI = Pauli('XI')\n",
    "IX = Pauli('IX')\n",
    "\n",
    "print(\"X-based operator matrices:\")\n",
    "print(\"XX (X on both qubits):\")\n",
    "print(XX.to_matrix())\n",
    "print(\"\\nXI (X on qubit 0, Identity on qubit 1):\")\n",
    "print(XI.to_matrix())\n",
    "print(\"\\nIX (Identity on qubit 0, X on qubit 1):\")\n",
    "print(IX.to_matrix())\n",
    "\n",
    "print(\"\\n\" + \"=\"*50)\n",
    "print(\"HOW X OPERATORS TRANSFORM BASIS STATES:\")\n",
    "print(\"=\"*50)\n",
    "print(\"X operator transforms:\")\n",
    "print(\"X|0⟩ = |1⟩\")\n",
    "print(\"X|1⟩ = |0⟩\")\n",
    "print()\n",
    "print(\"For our Bell state basis states:\")\n",
    "print(\"XX|00⟩ = X⊗X|00⟩ = |11⟩\")\n",
    "print(\"XX|11⟩ = X⊗X|11⟩ = |00⟩\")\n",
    "print()\n",
    "print(\"XI|00⟩ = X⊗I|00⟩ = |10⟩\")\n",
    "print(\"XI|11⟩ = X⊗I|11⟩ = |01⟩\")\n",
    "print()\n",
    "print(\"IX|00⟩ = I⊗X|00⟩ = |01⟩\")\n",
    "print(\"IX|11⟩ = I⊗X|11⟩ = |10⟩\")\n",
    "\n",
    "print(\"\\n\" + \"=\"*50)\n",
    "print(\"EXPECTATION VALUE CALCULATIONS:\")\n",
    "print(\"=\"*50)\n",
    "\n",
    "# Bell state: (|00⟩ + |11⟩)/√2\n",
    "bell_state = Statevector([1/np.sqrt(2), 0, 0, 1/np.sqrt(2)])\n",
    "\n",
    "print(\"Bell state: |ψ⟩ = (|00⟩ + |11⟩)/√2\")\n",
    "print()\n",
    "\n",
    "# XX expectation value\n",
    "print(\"1. ⟨XX⟩ Expectation Value:\")\n",
    "print(\"   XX|00⟩ = |11⟩\")\n",
    "print(\"   XX|11⟩ = |00⟩\")\n",
    "print(\"   XX|ψ⟩ = XX[(|00⟩ + |11⟩)/√2] = (|11⟩ + |00⟩)/√2 = |ψ⟩\")\n",
    "print(\"   ⟨ψ|XX|ψ⟩ = ⟨ψ|ψ⟩ = 1\")\n",
    "\n",
    "xx_expectation = bell_state.expectation_value(XX)\n",
    "print(f\"   Calculated: {xx_expectation}\")\n",
    "\n",
    "print(\"\\n2. ⟨XI⟩ Expectation Value:\")\n",
    "print(\"   XI|00⟩ = |10⟩\")\n",
    "print(\"   XI|11⟩ = |01⟩\")\n",
    "print(\"   XI|ψ⟩ = XI[(|00⟩ + |11⟩)/√2] = (|10⟩ + |01⟩)/√2\")\n",
    "print(\"   ⟨ψ|XI|ψ⟩ = ⟨(|00⟩ + |11⟩)/√2|(|10⟩ + |01⟩)/√2⟩\")\n",
    "print(\"   = (1/2)[⟨00|10⟩ + ⟨00|01⟩ + ⟨11|10⟩ + ⟨11|01⟩]\")\n",
    "print(\"   = (1/2)[0 + 0 + 0 + 0] = 0\")\n",
    "\n",
    "xi_expectation = bell_state.expectation_value(XI)\n",
    "print(f\"   Calculated: {xi_expectation}\")\n",
    "\n",
    "print(\"\\n3. ⟨IX⟩ Expectation Value:\")\n",
    "print(\"   IX|00⟩ = |01⟩\")\n",
    "print(\"   IX|11⟩ = |10⟩\")\n",
    "print(\"   IX|ψ⟩ = IX[(|00⟩ + |11⟩)/√2] = (|01⟩ + |10⟩)/√2\")\n",
    "print(\"   ⟨ψ|IX|ψ⟩ = ⟨(|00⟩ + |11⟩)/√2|(|01⟩ + |10⟩)/√2⟩\")\n",
    "print(\"   = (1/2)[⟨00|01⟩ + ⟨00|10⟩ + ⟨11|01⟩ + ⟨11|10⟩]\")\n",
    "print(\"   = (1/2)[0 + 0 + 0 + 0] = 0\")\n",
    "\n",
    "ix_expectation = bell_state.expectation_value(IX)\n",
    "print(f\"   Calculated: {ix_expectation}\")\n",
    "\n",
    "print(\"\\n\" + \"=\"*50)\n",
    "print(\"PHYSICAL INTERPRETATION OF X-OPERATORS:\")\n",
    "print(\"=\"*50)\n",
    "print(\"• ⟨XX⟩ = 1: Perfect correlation in X-basis measurements\")\n",
    "print(\"  If we measure both qubits in |+⟩/|-⟩ basis, outcomes are perfectly correlated\")\n",
    "print(\"• ⟨XI⟩ = 0: No correlation between X-measurement of qubit 0 and Z-measurement of qubit 1\")\n",
    "print(\"• ⟨IX⟩ = 0: No correlation between Z-measurement of qubit 0 and X-measurement of qubit 1\")\n",
    "print()\n",
    "print(\"KEY INSIGHT: The Bell state shows perfect correlation in BOTH Z and X bases!\")\n",
    "print(\"This is impossible classically - it's a signature of quantum entanglement.\")\n",
    "\n",
    "print(\"\\n\" + \"=\"*50)\n",
    "print(\"SUMMARY OF ALL EXPECTATION VALUES:\")\n",
    "print(\"=\"*50)\n",
    "print(f\"⟨ZZ⟩ = {bell_state.expectation_value(Pauli('ZZ'))}\")\n",
    "print(f\"⟨ZI⟩ = {bell_state.expectation_value(Pauli('ZI'))}\")\n",
    "print(f\"⟨IZ⟩ = {bell_state.expectation_value(Pauli('IZ'))}\")\n",
    "print(f\"⟨XX⟩ = {bell_state.expectation_value(Pauli('XX'))}\")\n",
    "print(f\"⟨XI⟩ = {bell_state.expectation_value(Pauli('XI'))}\")\n",
    "print(f\"⟨IX⟩ = {bell_state.expectation_value(Pauli('IX'))}\")"
   ]
  },
  {
   "cell_type": "markdown",
   "id": "cbe80466",
   "metadata": {},
   "source": [
    "#### Note: However in my calculation results I donot observe exact 0 values for IZ,ZI,XI,IX operators even though when I observe exactly 1. for XX and ZZ operators"
   ]
  },
  {
   "cell_type": "code",
   "execution_count": null,
   "id": "9d17883b",
   "metadata": {},
   "outputs": [],
   "source": [
    "print(\"\\n\" + \"=\"*50)\n",
    "print(\"WHY NO NOISE FOR ZZ AND XX BUT NOISE FOR OTHERS?\")\n",
    "print(\"=\"*50)\n",
    "\n",
    "print(\"Your results: [1.0, 0.012, 0.012, 1.0, -0.006, -0.006]\")\n",
    "print(\"Observables: [ZZ,  ZI,   IZ,   XX,  XI,    IX]\")\n",
    "print()\n",
    "\n",
    "print(\"KEY INSIGHT: The noise pattern reveals the Bell state structure!\")\n",
    "print()\n",
    "\n",
    "print(\"1. ZZ and XX = 1.0 EXACTLY (no noise):\")\n",
    "print(\"   • These operators are EIGENOPERATORS of the Bell state\")\n",
    "print(\"   • Bell state is an eigenstate with eigenvalue +1\")\n",
    "print(\"   • No statistical uncertainty when measuring eigenvalues!\")\n",
    "print()\n",
    "\n",
    "print(\"2. ZI, IZ, XI, IX ≈ 0 WITH NOISE:\")\n",
    "print(\"   • These operators are NOT eigenoperators\")\n",
    "print(\"   • They create superposition of measurement outcomes\")\n",
    "print(\"   • Statistical sampling creates uncertainty around the mean\")\n",
    "print()\n",
    "\n",
    "print(\"MATHEMATICAL EXPLANATION:\")\n",
    "print(\"=\"*30)\n",
    "print(\"Bell state: |ψ⟩ = (|00⟩ + |11⟩)/√2\")\n",
    "print()\n",
    "\n",
    "print(\"ZZ operator:\")\n",
    "print(\"ZZ|00⟩ = +1|00⟩  (eigenvalue +1)\")\n",
    "print(\"ZZ|11⟩ = +1|11⟩  (eigenvalue +1)\")\n",
    "print(\"→ Bell state is eigenstate of ZZ with eigenvalue +1\")\n",
    "print(\"→ EVERY measurement gives +1 → NO NOISE\")\n",
    "print()\n",
    "\n",
    "print(\"XX operator:\")\n",
    "print(\"XX|00⟩ = |11⟩\")\n",
    "print(\"XX|11⟩ = |00⟩\")\n",
    "print(\"XX|ψ⟩ = XX[(|00⟩ + |11⟩)/√2] = (|11⟩ + |00⟩)/√2 = |ψ⟩\")\n",
    "print(\"→ Bell state is eigenstate of XX with eigenvalue +1\")\n",
    "print(\"→ EVERY measurement gives +1 → NO NOISE\")\n",
    "print()\n",
    "\n",
    "print(\"ZI operator (example of noisy case):\")\n",
    "print(\"ZI|00⟩ = +1|00⟩\")\n",
    "print(\"ZI|11⟩ = -1|11⟩\")\n",
    "print(\"→ Bell state is NOT eigenstate of ZI\")\n",
    "print(\"→ Measurements give +1 or -1 with equal probability\")\n",
    "print(\"→ Average = 0, but individual shots vary → STATISTICAL NOISE\")\n",
    "print()\n",
    "\n",
    "print(\"CONCLUSION:\")\n",
    "print(\"• Perfect eigenvalue measurements (ZZ, XX) → No noise\")\n",
    "print(\"• Statistical averaging (ZI, IZ, XI, IX) → Noise from finite sampling\")\n",
    "print(\"• This is fundamental quantum measurement theory!\")"
   ]
  },
  {
   "cell_type": "markdown",
   "id": "cb3e3572",
   "metadata": {},
   "source": [
    "### Step 4: Post Processing (and plotting)"
   ]
  },
  {
   "cell_type": "code",
   "execution_count": 86,
   "id": "5193f2a7",
   "metadata": {},
   "outputs": [
    {
     "data": {
      "image/png": "[encoded data removed]",
      "text/plain": [
       "<Figure size 1000x600 with 1 Axes>"
      ]
     },
     "metadata": {},
     "output_type": "display_data"
    }
   ],
   "source": [
    "import matplotlib.pyplot as plt\n",
    "\n",
    "data = ['ZZ', 'ZI', 'IZ', 'XX', 'XI', 'IX'] # observables = [ZZ, ZI, IZ, XX, XI, IX]\n",
    "values = results.values\n",
    "\n",
    "plt.figure(figsize=(10, 6))\n",
    "plt.scatter(data, values, s=30, c='blue')\n",
    "plt.xlabel('Observables')\n",
    "plt.ylabel('Expectation Values')\n",
    "plt.title('Bell State Expectation Values (Scatter)')\n",
    "plt.grid(True, alpha=0.3)\n",
    "plt.axhline(y=0, color='r', linestyle='--', alpha=0.5)\n",
    "plt.axhline(y=1, color='g', linestyle='--', alpha=0.5)\n",
    "plt.show()"
   ]
  },
  {
   "cell_type": "code",
   "execution_count": 87,
   "id": "1bcef43f",
   "metadata": {},
   "outputs": [
    {
     "name": "stdout",
     "output_type": "stream",
     "text": [
      "[1.         0.01367188 0.01367188 1.         0.02148438 0.02148438]\n"
     ]
    }
   ],
   "source": [
    "print(results.values)"
   ]
  },
  {
   "cell_type": "markdown",
   "id": "0335760b",
   "metadata": {},
   "source": [
    "# Expand the Hello World example to $n$-qubit GHZ state"
   ]
  },
  {
   "cell_type": "markdown",
   "id": "2caa443a",
   "metadata": {},
   "source": [
    "### Step 1: Map the problem to the curcuit and operators "
   ]
  },
  {
   "cell_type": "code",
   "execution_count": null,
   "id": "47f20596",
   "metadata": {},
   "outputs": [],
   "source": [
    "def n_qubit_qauntum_circuit_constructor(n:int):\n",
    "    qc = QuantumCircuit(n)\n",
    "    qc.h(0)\n",
    "    for i in range(n-1):\n",
    "        qc.cx(i, i+1)\n",
    "    return qc\n",
    "\n",
    "n = 100\n",
    "qc_n = n_qubit_qauntum_circuit_constructor(n)\n",
    "# qc_n.draw(output='mpl')"
   ]
  },
  {
   "cell_type": "code",
   "execution_count": 41,
   "id": "dadb0691",
   "metadata": {},
   "outputs": [
    {
     "name": "stdout",
     "output_type": "stream",
     "text": [
      "99\n"
     ]
    }
   ],
   "source": [
    "from qiskit.quantum_info import SparsePauliOp\n",
    "\n",
    "operator_strings = ['Z' + 'I' * i + 'Z' + 'I' * (n - 2 - i) for i in range(n-1)]\n",
    "# print(operator_strings)\n",
    "print(len(operator_strings))\n",
    "\n",
    "operators = [SparsePauliOp(operator_string) for operator_string in operator_strings]\n"
   ]
  },
  {
   "cell_type": "markdown",
   "id": "3b1719c8",
   "metadata": {},
   "source": [
    "### Step 2: Optimize the problem for quantum execution"
   ]
  },
  {
   "cell_type": "code",
   "execution_count": null,
   "id": "37058fb9",
   "metadata": {},
   "outputs": [
    {
     "name": "stderr",
     "output_type": "stream",
     "text": [
      "/var/folders/jw/qfndg2hx5ss2hmqy__2xhv3w0000gn/T/ipykernel_10709/1260668932.py:5: DeprecationWarning: The \"ibm_quantum\" channel option is deprecated and will be sunset on 1 July. After this date, \"ibm_cloud\", \"ibm_quantum_platform\", and \"local\" will be the only valid channels. For information on migrating to the new IBM Quantum Platform, review the migration guide https://quantum.cloud.ibm.com/docs/migration-guides/classic-iqp-to-cloud-iqp .\n",
      "  service = QiskitRuntimeService()\n"
     ]
    }
   ],
   "source": [
    "from qiskit_ibm_runtime import QiskitRuntimeService\n",
    "from qiskit.transpiler.preset_passmanagers import generate_preset_pass_manager\n",
    "\n",
    "backend_name = \"ibm_sherbrooke\"  # or \"ibm_brisbane\"\n",
    "service = QiskitRuntimeService()\n",
    "backend = service.backend(backend_name)\n",
    "pass_manager = generate_preset_pass_manager(optimization_level=1, backend=backend)\n",
    "\n",
    "qc_transpiled = pass_manager.run(qc_n)\n",
    "operators_transpiled_list = [op.apply_layout(qc_transpiled.layout) for op in operators] # Makes sure that the indicies of the operators gets mapped to the correct indices of the transpiled circuit"
   ]
  },
  {
   "cell_type": "code",
   "execution_count": 88,
   "id": "dfe5e229",
   "metadata": {},
   "outputs": [
    {
     "name": "stdout",
     "output_type": "stream",
     "text": [
      "============================================================\n",
      "TRANSPILATION ANALYSIS: Before vs After\n",
      "============================================================\n",
      "ORIGINAL CIRCUIT:\n",
      "Original circuit depth: 100\n",
      "Original gate count: OrderedDict({'cx': 99, 'h': 1})\n",
      "Original qubits: 100\n",
      "First few gates: [CircuitInstruction(operation=Instruction(name='h', num_qubits=1, num_clbits=0, params=[]), qubits=(<Qubit register=(100, \"q\"), index=0>,), clbits=()), CircuitInstruction(operation=Instruction(name='cx', num_qubits=2, num_clbits=0, params=[]), qubits=(<Qubit register=(100, \"q\"), index=0>, <Qubit register=(100, \"q\"), index=1>), clbits=()), CircuitInstruction(operation=Instruction(name='cx', num_qubits=2, num_clbits=0, params=[]), qubits=(<Qubit register=(100, \"q\"), index=1>, <Qubit register=(100, \"q\"), index=2>), clbits=()), CircuitInstruction(operation=Instruction(name='cx', num_qubits=2, num_clbits=0, params=[]), qubits=(<Qubit register=(100, \"q\"), index=2>, <Qubit register=(100, \"q\"), index=3>), clbits=()), CircuitInstruction(operation=Instruction(name='cx', num_qubits=2, num_clbits=0, params=[]), qubits=(<Qubit register=(100, \"q\"), index=3>, <Qubit register=(100, \"q\"), index=4>), clbits=())]\n",
      "\n",
      "TRANSPILED CIRCUIT:\n",
      "Transpiled circuit depth: 280\n",
      "Transpiled gate count: OrderedDict({'rz': 395, 'sx': 226, 'ecr': 99, 'x': 51})\n",
      "Transpiled qubits: 127\n",
      "First few gates: [CircuitInstruction(operation=Instruction(name='rz', num_qubits=1, num_clbits=0, params=[-3.141592653589793]), qubits=(<Qubit register=(127, \"q\"), index=0>,), clbits=()), CircuitInstruction(operation=Instruction(name='sx', num_qubits=1, num_clbits=0, params=[]), qubits=(<Qubit register=(127, \"q\"), index=0>,), clbits=()), CircuitInstruction(operation=Instruction(name='rz', num_qubits=1, num_clbits=0, params=[-3.141592653589793]), qubits=(<Qubit register=(127, \"q\"), index=0>,), clbits=()), CircuitInstruction(operation=Instruction(name='rz', num_qubits=1, num_clbits=0, params=[-1.570796326794897]), qubits=(<Qubit register=(127, \"q\"), index=1>,), clbits=()), CircuitInstruction(operation=Instruction(name='sx', num_qubits=1, num_clbits=0, params=[]), qubits=(<Qubit register=(127, \"q\"), index=1>,), clbits=())]\n",
      "\n",
      "==================================================\n",
      "OPERATOR TRANSPILATION:\n",
      "==================================================\n",
      "Original operator (third one):\n",
      "Original: SparsePauliOp(['ZIIZIIIIIIIIIIIIIIIIIIIIIIIIIIIIIIIIIIIIIIIIIIIIIIIIIIIIIIIIIIIIIIIIIIIIIIIIIIIIIIIIIIIIIIIIIIIIIIII'],\n",
      "              coeffs=[1.+0.j])\n",
      "Qubits: 100\n",
      "\n",
      "Transpiled operator (third one):\n",
      "Transpiled: SparsePauliOp(['IIIIIIIIIZIIZIIIIIIIIIIIIIIIIIIIIIIIIIIIIIIIIIIIIIIIIIIIIIIIIIIIIIIIIIIIIIIIIIIIIIIIIIIIIIIIIIIIIIIIIIIIIIIIIIIIIIIIIIIIIIIIIII'],\n",
      "              coeffs=[1.+0.j])\n",
      "Qubits: 127\n",
      "\n",
      "==================================================\n",
      "WHAT TRANSPILATION CHANGED:\n",
      "==================================================\n",
      "1. QUBIT MAPPING:\n",
      "   • Original uses logical qubits 0, 1, 2, ..., 99\n",
      "   • Transpiled maps to physical qubits on the hardware\n",
      "\n",
      "2. GATE DECOMPOSITION:\n",
      "   • Original: H and CNOT gates\n",
      "   • Transpiled: Hardware-native gates (RZ, SX, CNOT, etc.)\n",
      "\n",
      "3. CONNECTIVITY ROUTING:\n",
      "   • Added SWAP gates for non-adjacent qubit operations\n",
      "   • Optimized for hardware topology\n",
      "\n",
      "4. OPERATOR LAYOUT APPLICATION:\n",
      "   • Original operators act on logical qubits\n",
      "   • Transpiled operators act on mapped physical qubits\n"
     ]
    }
   ],
   "source": [
    "# Uncomment these to see what transpilation does\n",
    "print(\"=\"*60)\n",
    "print(\"TRANSPILATION ANALYSIS: Before vs After\")\n",
    "print(\"=\"*60)\n",
    "\n",
    "print(\"ORIGINAL CIRCUIT:\")\n",
    "print(f\"Original circuit depth: {qc_n.depth()}\")\n",
    "print(f\"Original gate count: {qc_n.count_ops()}\")\n",
    "print(f\"Original qubits: {qc_n.num_qubits}\")\n",
    "print(f\"First few gates: {list(qc_n.data)[:5]}\")  # Show first 5 gates\n",
    "\n",
    "print(\"\\nTRANSPILED CIRCUIT:\")\n",
    "print(f\"Transpiled circuit depth: {qc_transpiled.depth()}\")\n",
    "print(f\"Transpiled gate count: {qc_transpiled.count_ops()}\")\n",
    "print(f\"Transpiled qubits: {qc_transpiled.num_qubits}\")\n",
    "# print(f\"Layout: {qc_transpiled.layout}\")\n",
    "print(f\"First few gates: {list(qc_transpiled.data)[:5]}\")\n",
    "\n",
    "print(\"\\n\" + \"=\"*50)\n",
    "print(\"OPERATOR TRANSPILATION:\")\n",
    "print(\"=\"*50)\n",
    "\n",
    "print(\"Original operator (third one):\")\n",
    "print(f\"Original: {operators[2]}\")\n",
    "print(f\"Qubits: {operators[2].num_qubits}\")\n",
    "\n",
    "print(\"\\nTranspiled operator (third one):\")\n",
    "print(f\"Transpiled: {operators_transpiled_list[2]}\")\n",
    "print(f\"Qubits: {operators_transpiled_list[2].num_qubits}\")\n",
    "\n",
    "# Show the difference in detail\n",
    "print(\"\\n\" + \"=\"*50)\n",
    "print(\"WHAT TRANSPILATION CHANGED:\")\n",
    "print(\"=\"*50)\n",
    "\n",
    "print(\"1. QUBIT MAPPING:\")\n",
    "print(f\"   • Original uses logical qubits 0, 1, 2, ..., {n-1}\")\n",
    "print(f\"   • Transpiled maps to physical qubits on the hardware\")\n",
    "# print(f\"   • Layout information: {qc_transpiled.layout}\")\n",
    "\n",
    "print(\"\\n2. GATE DECOMPOSITION:\")\n",
    "print(\"   • Original: H and CNOT gates\")\n",
    "print(\"   • Transpiled: Hardware-native gates (RZ, SX, CNOT, etc.)\")\n",
    "\n",
    "print(\"\\n3. CONNECTIVITY ROUTING:\")\n",
    "print(\"   • Added SWAP gates for non-adjacent qubit operations\")\n",
    "print(\"   • Optimized for hardware topology\")\n",
    "\n",
    "print(\"\\n4. OPERATOR LAYOUT APPLICATION:\")\n",
    "print(\"   • Original operators act on logical qubits\")\n",
    "print(\"   • Transpiled operators act on mapped physical qubits\")"
   ]
  },
  {
   "cell_type": "markdown",
   "id": "f9063e2a",
   "metadata": {},
   "source": [
    "### Step 3: Execute on the backend"
   ]
  },
  {
   "cell_type": "code",
   "execution_count": null,
   "id": "6fdb7e8a",
   "metadata": {},
   "outputs": [
    {
     "name": "stdout",
     "output_type": "stream",
     "text": [
      "d1fwhkev3z50008ayhyg\n"
     ]
    },
    {
     "name": "stderr",
     "output_type": "stream",
     "text": [
      "/Users/soni_aman/anaconda3/envs/cwq/lib/python3.13/site-packages/qiskit_ibm_runtime/qiskit_runtime_service.py:1111: UserWarning: IBM Quantum Platform is moving, and this version will be sunset on July 1. To get started on the new platform, read the migration guide at https://docs.quantum.ibm.com/migration-guides/classic-iqp-to-cloud-iqp\n",
      "  warnings.warn(warning_message)\n"
     ]
    }
   ],
   "source": [
    "from qiskit_ibm_runtime import EstimatorV2 as Estimator\n",
    "from qiskit_ibm_runtime import EstimatorOptions\n",
    "\n",
    "options = EstimatorOptions()\n",
    "options.resilience_level = 1 # Since Quantum computers are extremely noisy this step allows for Error Mitigation\n",
    "# options.optimization_level = 0 ## removed in the updated versions\n",
    "options.dynamical_decoupling.enable = True # Applies rapid pulse sequences during idle times to combat decoherence.\n",
    "options.dynamical_decoupling.sequence_type = 'XY4' # X-pulse, Y-pulse, X-pulse, Y-pulse; 4-pulse sequence\n",
    "\n",
    "estimator = Estimator(backend, options=options)\n",
    "\n",
    "job = estimator.run([(qc_transpiled, operators_transpiled_list)])\n",
    "job_id = job.job_id()\n",
    "print(job_id)"
   ]
  },
  {
   "cell_type": "markdown",
   "id": "db584493",
   "metadata": {},
   "source": [
    "### Step 4: Post-process and plot"
   ]
  },
  {
   "cell_type": "code",
   "execution_count": 92,
   "id": "6d2ddc44",
   "metadata": {},
   "outputs": [],
   "source": [
    "# Retrieve the job\n",
    "job = service.job(job_id)"
   ]
  },
  {
   "cell_type": "code",
   "execution_count": 93,
   "id": "31ab430c",
   "metadata": {},
   "outputs": [],
   "source": [
    "data = list(range(1,n))\n",
    "# print(len(data))\n",
    "result = job.result()[0]\n",
    "values = result.data.evs"
   ]
  },
  {
   "cell_type": "code",
   "execution_count": 103,
   "id": "fedde1c1",
   "metadata": {},
   "outputs": [
    {
     "data": {
      "image/png": "[encoded data removed]",
      "text/plain": [
       "<Figure size 1200x600 with 1 Axes>"
      ]
     },
     "metadata": {},
     "output_type": "display_data"
    }
   ],
   "source": [
    "plt.figure(figsize=(12, 6))\n",
    "\n",
    "# Theoretical perfect GHZ\n",
    "theoretical = [1.0] * 99\n",
    "plt.plot(range(1, 100), theoretical, 'r--', label='Perfect GHZ (theory)', linewidth=2)\n",
    "\n",
    "# Your experimental results  \n",
    "plt.scatter(data, values, marker='o', label=f'{n}-qubit GHZ (experiment)', alpha=0.7)\n",
    "\n",
    "plt.xlabel('Distance between qubits (i)')\n",
    "plt.ylabel(r'$\\langle Z_0 Z_i \\rangle$')\n",
    "plt.title('100-Qubit GHZ State: Theory vs Experiment')\n",
    "plt.legend()\n",
    "plt.grid(True, alpha=0.3)\n",
    "plt.axhline(y=0, color='k', linestyle='-', alpha=0.3)\n",
    "plt.show()"
   ]
  },
  {
   "cell_type": "markdown",
   "id": "bf0fc316",
   "metadata": {},
   "source": [
    "Plot 2"
   ]
  },
  {
   "cell_type": "code",
   "execution_count": 104,
   "id": "14a8f16a",
   "metadata": {},
   "outputs": [
    {
     "data": {
      "image/png": "[encoded data removed]",
      "text/plain": [
       "<Figure size 1200x600 with 1 Axes>"
      ]
     },
     "metadata": {},
     "output_type": "display_data"
    }
   ],
   "source": [
    "rel_values = [values_i / values[0] for values_i in values]\n",
    "\n",
    "plt.figure(figsize=(12, 6))\n",
    "plt.scatter(data, rel_values, marker='o', label=f'Relative {n}-qubit GHZ experimental errors', alpha=0.7)\n",
    "\n",
    "plt.xlabel('Distance between qubits (i)')\n",
    "plt.ylabel(r'$\\langle Z_0 Z_i \\rangle / \\langle Z_0 Z_1 \\rangle$')\n",
    "plt.legend()\n",
    "plt.grid(True, alpha=0.3)\n",
    "plt.show()"
   ]
  },
  {
   "cell_type": "markdown",
   "id": "6a0d3279",
   "metadata": {},
   "source": [
    "### Decoherence Affects Distance:"
   ]
  },
  {
   "cell_type": "markdown",
   "id": "b138d310",
   "metadata": {},
   "source": [
    "**Ideal GHZ** \\\n",
    "|GHZ⟩ = (|00...0⟩ + |11...1⟩)/√2 \\\n",
    "ALL $Z_0 Z_i$ should give $⟨Z_0 Z_i⟩$ = +1\n",
    "\n",
    "**Your GHZ** circuit construction: \\\n",
    "H(0) - CNOT(0,1) - CNOT(1,2) - CNOT(2,3) - ... - CNOT(98,99)\n",
    "\n",
    "**CIRCUIT ANALYSIS**:\n",
    "- Qubit 1: Directly connected to qubit 0 → Strong correlation\n",
    "- Qubit 2: Connected via 1 CNOT → Medium correlation\n",
    "- Qubit 99: Connected via 99 CNOTs → Weak correlation\n",
    "\n",
    "**DECOHERENCE TIMELINE**:\n",
    "- Early gates (0-1): Less time for decoherence → Higher fidelity\n",
    "- Late gates (0-99): More time for decoherence → Lower fidelity"
   ]
  },
  {
   "cell_type": "markdown",
   "id": "23971c71",
   "metadata": {},
   "source": [
    "Decoherence is quantum information leaking into the environment, destroying the delicate quantum correlations that make quantum computing powerful. This experiment beautifully demonstrates this effect!"
   ]
  },
  {
   "cell_type": "markdown",
   "id": "b9a29708",
   "metadata": {},
   "source": []
  }
 ],
 "metadata": {
  "kernelspec": {
   "display_name": "cwq",
   "language": "python",
   "name": "python3"
  },
  "language_info": {
   "codemirror_mode": {
    "name": "ipython",
    "version": 3
   },
   "file_extension": ".py",
   "mimetype": "text/x-python",
   "name": "python",
   "nbconvert_exporter": "python",
   "pygments_lexer": "ipython3",
   "version": "3.13.2"
  }
 },
 "nbformat": 4,
 "nbformat_minor": 5
}
