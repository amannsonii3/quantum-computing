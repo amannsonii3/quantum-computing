{
 "cells": [
  {
   "cell_type": "markdown",
   "id": "b7144a66",
   "metadata": {},
   "source": [
    "**Terminal:**\n",
    "\n",
    "```\n",
    "conda create -n cwq \n",
    "conda install pip\n",
    "python -m pip install qiskit\n",
    "```"
   ]
  },
  {
   "cell_type": "code",
   "execution_count": 1,
   "id": "3bf7ad7e",
   "metadata": {},
   "outputs": [],
   "source": [
    "import qiskit"
   ]
  },
  {
   "cell_type": "code",
   "execution_count": 2,
   "id": "108c529e",
   "metadata": {},
   "outputs": [
    {
     "data": {
      "text/plain": [
       "'2.0.2'"
      ]
     },
     "execution_count": 2,
     "metadata": {},
     "output_type": "execute_result"
    }
   ],
   "source": [
    "qiskit.__version__"
   ]
  },
  {
   "cell_type": "code",
   "execution_count": 3,
   "id": "99700b73",
   "metadata": {},
   "outputs": [],
   "source": [
    "# token=\"Get_your_own_from:https://quantum.ibm.com/\"\n",
    "\n",
    "# from qiskit_ibm_runtime import QiskitRuntimeService\n",
    " \n",
    "# QiskitRuntimeService.save_account(\n",
    "#   token=token,\n",
    "#   channel=\"ibm_quantum\" # `channel` distinguishes between different account types\n",
    "# )"
   ]
  },
  {
   "cell_type": "markdown",
   "id": "a6cce682",
   "metadata": {},
   "source": [
    "Credentials are saved to `$HOME/.qiskit/qiskit-ibm.json`. \\\n",
    "Do not manually edit this file."
   ]
  },
  {
   "cell_type": "code",
   "execution_count": 5,
   "id": "8855f435",
   "metadata": {},
   "outputs": [
    {
     "name": "stderr",
     "output_type": "stream",
     "text": [
      "/var/folders/jw/qfndg2hx5ss2hmqy__2xhv3w0000gn/T/ipykernel_24751/408168791.py:3: DeprecationWarning: The \"ibm_quantum\" channel option is deprecated and will be sunset on 1 July. After this date, \"ibm_cloud\", \"ibm_quantum_platform\", and \"local\" will be the only valid channels. For information on migrating to the new IBM Quantum Platform, review the migration guide https://quantum.cloud.ibm.com/docs/migration-guides/classic-iqp-to-cloud-iqp .\n",
      "  service = QiskitRuntimeService()\n"
     ]
    }
   ],
   "source": [
    "from qiskit_ibm_runtime import QiskitRuntimeService\n",
    "# Initialize the service with your IBM Quantum account\n",
    "service = QiskitRuntimeService()"
   ]
  },
  {
   "cell_type": "code",
   "execution_count": null,
   "id": "cb9a9a3e",
   "metadata": {},
   "outputs": [],
   "source": []
  }
 ],
 "metadata": {
  "kernelspec": {
   "display_name": "cwq",
   "language": "python",
   "name": "python3"
  },
  "language_info": {
   "codemirror_mode": {
    "name": "ipython",
    "version": 3
   },
   "file_extension": ".py",
   "mimetype": "text/x-python",
   "name": "python",
   "nbconvert_exporter": "python",
   "pygments_lexer": "ipython3",
   "version": "3.13.2"
  }
 },
 "nbformat": 4,
 "nbformat_minor": 5
}
